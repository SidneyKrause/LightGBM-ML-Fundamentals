{
 "cells": [
  {
   "cell_type": "markdown",
   "metadata": {},
   "source": [
    "# Exclusive Feature Bundling \n",
    "The Exclusive Feature Bundling (EFB) method is a technique for consolidating features while maintaining their individual distribution. \n",
    "According to Ke/Guolin et al. (2017, p.5), the concept is about leveraging the density of the feature space to reduce the number of features. A considerable number of features is not null. Two exclusive features can be merged to form a single exclusive feature bundle.\n",
    "The feature bundles are capable of constructing the same histograms as the original features. The complexity of histogram construction is reduced from $O(instances * Features)$ to $O(Instances * Bundels)$. Consequently, training can be accelerated without compromising accuracy. \n",
    "\n",
    "Two significant challenges must be addressed: the initial identification of bundles and the subsequent merging of these bundles. This notebook will address greedy bundling and the subsequent merging of exclusive features."
   ]
  },
  {
   "cell_type": "markdown",
   "metadata": {},
   "source": [
    "## Greedy Bundling \n",
    "A greedy bundling algorithm is employed to identify features for bundling. The merge-exclusive features algorithm is employed for the purpose of merging the aforementioned features into a unified bundle.\n",
    "The problem of identifying a potential exclusive feature bundle can be formulated as a graph coloring problem, which allows for the computation of an exact solution in polynomial time. A greedy bundling algorithm is employed to minimize the necessity for a lengthy computation time. It should be noted that this algorithm is not exact. However, it is faster. Moreover, it is feasible to permit a minor proportion of discrepancies in order to attain favourable outcomes and markedly enhance the quality of feature bundles. The aforementioned ratio is regulated by the variable $\\gamma$, which enables the establishment of an optimal equilibrium between precision and efficiency.\n",
    "\n",
    "### Explanation of Greedy Bundling\n",
    "Figure 6 illustrates the Greedy Bundling process through the use of pseudo-code. At this juncture, we undertake a detailed examination of the algorithm, focusing on the constituent steps. "
   ]
  },
  {
   "cell_type": "markdown",
   "metadata": {},
   "source": [
    "![image.png](images/figure_5.png) <BR>\n",
    "Figure 6: Representation of Greedy Bundling"
   ]
  },
  {
   "cell_type": "markdown",
   "metadata": {},
   "source": [
    "The initial stage of the process is to initialize the algorithm by establishing the desired input values. The input value $F$ represents a feature space, and $K$ represents the maximum conflict count. The conflict count represents the sum of individual conflicts between two features values of an instance. A conflict arises if an instance contains non-zero values for both features The algorithm constructs a feature graph, $G$, using the provided information. §G§ is an undirected graph with weighted edges, as represented by the following formula.\n",
    "$$G = (V,E)$$\n",
    "In this context, the variable $V$ represents the vertices or nodes, while the variable $E$ represents the edges. In this particular instance, the weights are indicative of the degree of conflict between the features in question. In abstract terms, the graph can be conceptualized as an adjacency matrix. The features are ordered according to their total number of conflicts. Subsequently, the search for feature bundles is initiated. The algorithm then proceeds to group features with edges that have a lower number of conflicts together, represented by $K$. If no bundle has a smaller conflict count than $K$, a new bundle is created, and the algorithm attempts to incorporate additional features. The final output of the algorithm is a feature bundle."
   ]
  },
  {
   "cell_type": "markdown",
   "metadata": {},
   "source": [
    "### Practical Understanding of Greedy Bundling"
   ]
  },
  {
   "cell_type": "markdown",
   "metadata": {},
   "source": [
    "This implementation is divided into two distinct parts. The initial part involves the implementation of Greedy Bundling, while the subsequent section, entitled \"Explanation of Merge Exclusive Features,\" utilizes the Bundled Features for Merge Exclusive Features (MEF).\n",
    "In order to facilitate the implementation of the algorithms, packages such as numpy, pandas, and plotly are utilized. For the construction of a graph, the the libary networkx and matplotlib areused. Initially, an illustrative dataset is constructed. Subsequently, the code is implemented. "
   ]
  },
  {
   "cell_type": "code",
   "execution_count": 31,
   "metadata": {},
   "outputs": [],
   "source": [
    "# Run helper code in utilities\n",
    "%run ../utilities.ipynb"
   ]
  },
  {
   "cell_type": "markdown",
   "metadata": {},
   "source": [
    "To illustrate, a small data set comprising five features and ten instances is employed. "
   ]
  },
  {
   "cell_type": "code",
   "execution_count": 32,
   "metadata": {},
   "outputs": [],
   "source": [
    "# Create examplary data set\n",
    "df = pd.DataFrame(\n",
    "    data={\n",
    "        \"f0\": [1, 0, 1, 0, 2, 3, 0, 1, 1, 2],\n",
    "        \"f1\": [1, 0, 2, 0, 1, 3, 0, 2, 0, 3],\n",
    "        \"f2\": [0, 1, 0, 2, 0, 0, 3, 3, 1, 0],\n",
    "        \"f3\": [0, 1, 0, 3, 0, 0, 0, 4, 0, 0],\n",
    "        \"f4\": [1, 1, 2, 1, 3, 1, 2, 3, 0, 2],\n",
    "    },\n",
    "    index=[\n",
    "        \"i=1\",\n",
    "        \"i=2\",\n",
    "        \"i=3\",\n",
    "        \"i=4\",\n",
    "        \"i=5\",\n",
    "        \"i=6\",\n",
    "        \"i=7\",\n",
    "        \"i=8\",\n",
    "        \"i=9\",\n",
    "        \"i=10\",\n",
    "    ],\n",
    ")"
   ]
  },
  {
   "cell_type": "markdown",
   "metadata": {},
   "source": [
    "The following definition includes an implementation of the concept of \"Greedy Bundling\". The initial section presents an implementation of a graph-building algorithm. The graph is represented as an adjacency matrix, stored as a DataFrame. The following section presents the implementation of the search algorithm. The algorithm operates under the assumption that a new bundle is required. To this end, it checks the conflict count and, if this is smaller than the maximum conflict, sets *need_new* to False. The algorithm returns two lists: bundles and bundles_conflicts. The bundles_conflict data set includes the conflict count for each bundle. The bundles list comprises a list of features, which serve as the input for the Merge Exclusive Feature algorithm. "
   ]
  },
  {
   "cell_type": "code",
   "execution_count": 33,
   "metadata": {},
   "outputs": [],
   "source": [
    "def greedy_bundling(F: pd.DataFrame, K: int) -> tuple[list, list, pd.DataFrame]:\n",
    "    \"\"\"A simplified implementation of the greedy bundling algorithm\n",
    "\n",
    "    Args:\n",
    "        F (pd.DataFrame): the data greedy bundling is to be performed on \n",
    "        K (int): the maximum conflict count\n",
    "\n",
    "    Returns:\n",
    "        bundles, bundles_conflict, graph (tuple): the bundles (conflict) the algorithm comes up with\n",
    "    \"\"\"\n",
    "    # Construct graph\n",
    "    graph = pd.DataFrame(columns=F.columns, index=F.columns)\n",
    "    for i, j in itertools.combinations(df.columns, 2):\n",
    "        conflicts = len(F[(F[i] > 0) & (F[j] > 0)])\n",
    "        graph.loc[i, j] = conflicts\n",
    "        graph.loc[j, i] = (conflicts)  # Is executed twice as the matrix is symmetrical\n",
    "    \n",
    "    # Define order of total feature conflicts\n",
    "    search_order = graph.sum().sort_values(ascending=False).index\n",
    "\n",
    "    bundles = []\n",
    "    bundles_conflict = []\n",
    "    \n",
    "    # Search for bundles in graph\n",
    "    for i in search_order:\n",
    "        need_new = True\n",
    "\n",
    "        for j in range(1, len(bundles)):\n",
    "            cnt = int(graph.loc[i, bundles[j]])\n",
    "\n",
    "            if (cnt + bundles_conflict[j]) <= K:\n",
    "                bundles[j].append(i)\n",
    "                bundles_conflict[j] += cnt\n",
    "                need_new = False\n",
    "                break\n",
    "\n",
    "        if need_new == True:\n",
    "            bundles.append([i])\n",
    "            bundles_conflict.append(0)\n",
    "\n",
    "    return bundles, bundles_conflict, graph"
   ]
  },
  {
   "cell_type": "code",
   "execution_count": 34,
   "metadata": {},
   "outputs": [
    {
     "name": "stderr",
     "output_type": "stream",
     "text": [
      "C:\\Users\\Sidney Krause\\AppData\\Local\\Temp\\ipykernel_2908\\2154267790.py:29: FutureWarning: Calling int on a single element Series is deprecated and will raise a TypeError in the future. Use int(ser.iloc[0]) instead\n",
      "  cnt = int(graph.loc[i, bundles[j]])\n",
      "C:\\Users\\Sidney Krause\\AppData\\Local\\Temp\\ipykernel_2908\\2154267790.py:29: FutureWarning: Calling int on a single element Series is deprecated and will raise a TypeError in the future. Use int(ser.iloc[0]) instead\n",
      "  cnt = int(graph.loc[i, bundles[j]])\n",
      "C:\\Users\\Sidney Krause\\AppData\\Local\\Temp\\ipykernel_2908\\2154267790.py:29: FutureWarning: Calling int on a single element Series is deprecated and will raise a TypeError in the future. Use int(ser.iloc[0]) instead\n",
      "  cnt = int(graph.loc[i, bundles[j]])\n",
      "C:\\Users\\Sidney Krause\\AppData\\Local\\Temp\\ipykernel_2908\\2154267790.py:29: FutureWarning: Calling int on a single element Series is deprecated and will raise a TypeError in the future. Use int(ser.iloc[0]) instead\n",
      "  cnt = int(graph.loc[i, bundles[j]])\n"
     ]
    }
   ],
   "source": [
    "bundles, conflicts, graph = greedy_bundling(F=df, K=1)"
   ]
  },
  {
   "cell_type": "markdown",
   "metadata": {},
   "source": [
    "This function builds a visualisation based on the crowned graph in the form of an adjacency matrix of the greedy bundling algorithm. This visualisation represents a fully connected weighted undirected graph as shown below. The graph represents the features as the nodes and the conflicts as weigthed edges.  "
   ]
  },
  {
   "cell_type": "code",
   "execution_count": 35,
   "metadata": {},
   "outputs": [
    {
     "name": "stderr",
     "output_type": "stream",
     "text": [
      "C:\\Users\\Sidney Krause\\AppData\\Local\\Temp\\ipykernel_2908\\414726503.py:11: FutureWarning: Downcasting object dtype arrays on .fillna, .ffill, .bfill is deprecated and will change in a future version. Call result.infer_objects(copy=False) instead. To opt-in to the future behavior, set `pd.set_option('future.no_silent_downcasting', True)`\n",
      "  adj_matrix = graph.fillna(0)\n"
     ]
    },
    {
     "data": {
      "image/png": "[encoded data removed]",
      "text/plain": [
       "<Figure size 640x480 with 1 Axes>"
      ]
     },
     "metadata": {},
     "output_type": "display_data"
    }
   ],
   "source": [
    "display_graph(graph)"
   ]
  },
  {
   "cell_type": "markdown",
   "metadata": {},
   "source": [
    "The algorithm has seperated the features into three distinct bundles:"
   ]
  },
  {
   "cell_type": "code",
   "execution_count": 36,
   "metadata": {},
   "outputs": [
    {
     "name": "stdout",
     "output_type": "stream",
     "text": [
      "[['f4'], ['f0', 'f3'], ['f1', 'f2']]\n"
     ]
    }
   ],
   "source": [
    "# Show bundles\n",
    "print(bundles)"
   ]
  },
  {
   "cell_type": "markdown",
   "metadata": {},
   "source": [
    "## Merge Exclusive Features\n",
    "Once the features have been bundled, the subsequent step is to merge them. In order to achieve this, an algorithmic process known as \"Merge Exclusive Features\" is employed. This process facilitates the consolidation of features in a manner that enables the original feature to be discernible from the feature bundle. The aforementioned features can be stored in a bin of a histogram without compromising the distribution of the individual features. This can be achieved by simply adding an offset to the original values of the features and merging them. "
   ]
  },
  {
   "cell_type": "markdown",
   "metadata": {},
   "source": [
    "![image.png](images/figure_6.png) <BR>\n",
    "Figure 7: Representation of Merge Exclusive Features "
   ]
  },
  {
   "cell_type": "markdown",
   "metadata": {},
   "source": [
    "### Explanation of Merge Exclusive Features\n",
    "The Merge Exclusive Features algorithm receives a bundle of exclusive features and the quantity of data as inputs. Subsequently, the algorithm sets the $binRanges$ to {0}. In the initial iteration, the algorithm identifies and selects the initial feature. At this juncture, the highest value is sought and appended to the total bin. This value is then added to the bin ranges. Subsequently, the algorithm selects the subsequent features and performs the aforementioned process. The total bin can be conceptualized as a novel feature. Subsequently, the algorithm generates a novel bin, termed $newbin$, following the conclusion of the initial loop. Subsequently, the algorithm executes a calculation within a nested for-loop. The outer loop iterates over the data points, while the inner loop iterates over the features. In the outer loop, the value is set to zero for each instance, and then the inner loop is computed. The inner loop iterates a feature that contains an if-clause with a condition that selects a single value from the set of datapoints of the selected feature that is not equal to zero. If the condition is verified, the algorithm proceeds to select the aforementioned value and incorporate the offset. Subsequently, the algorithm returns the merged features and a list $binRanges$."
   ]
  },
  {
   "cell_type": "markdown",
   "metadata": {},
   "source": [
    "### Practical understanding of Merge Exclusive Features\n"
   ]
  },
  {
   "cell_type": "markdown",
   "metadata": {},
   "source": [
    "In the case of the previously utilized data, a bundle derived from the Greedy Bundling Algorithm is employed. "
   ]
  },
  {
   "cell_type": "code",
   "execution_count": 37,
   "metadata": {},
   "outputs": [
    {
     "name": "stdout",
     "output_type": "stream",
     "text": [
      "Bundle for MEF:  ['f0', 'f3']\n"
     ]
    },
    {
     "data": {
      "text/html": [
       "<div>\n",
       "<style scoped>\n",
       "    .dataframe tbody tr th:only-of-type {\n",
       "        vertical-align: middle;\n",
       "    }\n",
       "\n",
       "    .dataframe tbody tr th {\n",
       "        vertical-align: top;\n",
       "    }\n",
       "\n",
       "    .dataframe thead th {\n",
       "        text-align: right;\n",
       "    }\n",
       "</style>\n",
       "<table border=\"1\" class=\"dataframe\">\n",
       "  <thead>\n",
       "    <tr style=\"text-align: right;\">\n",
       "      <th></th>\n",
       "      <th>f0</th>\n",
       "      <th>f3</th>\n",
       "    </tr>\n",
       "  </thead>\n",
       "  <tbody>\n",
       "    <tr>\n",
       "      <th>i=1</th>\n",
       "      <td>1</td>\n",
       "      <td>0</td>\n",
       "    </tr>\n",
       "    <tr>\n",
       "      <th>i=2</th>\n",
       "      <td>0</td>\n",
       "      <td>1</td>\n",
       "    </tr>\n",
       "    <tr>\n",
       "      <th>i=3</th>\n",
       "      <td>1</td>\n",
       "      <td>0</td>\n",
       "    </tr>\n",
       "    <tr>\n",
       "      <th>i=4</th>\n",
       "      <td>0</td>\n",
       "      <td>3</td>\n",
       "    </tr>\n",
       "    <tr>\n",
       "      <th>i=5</th>\n",
       "      <td>2</td>\n",
       "      <td>0</td>\n",
       "    </tr>\n",
       "    <tr>\n",
       "      <th>i=6</th>\n",
       "      <td>3</td>\n",
       "      <td>0</td>\n",
       "    </tr>\n",
       "    <tr>\n",
       "      <th>i=7</th>\n",
       "      <td>0</td>\n",
       "      <td>0</td>\n",
       "    </tr>\n",
       "    <tr>\n",
       "      <th>i=8</th>\n",
       "      <td>1</td>\n",
       "      <td>4</td>\n",
       "    </tr>\n",
       "    <tr>\n",
       "      <th>i=9</th>\n",
       "      <td>1</td>\n",
       "      <td>0</td>\n",
       "    </tr>\n",
       "    <tr>\n",
       "      <th>i=10</th>\n",
       "      <td>2</td>\n",
       "      <td>0</td>\n",
       "    </tr>\n",
       "  </tbody>\n",
       "</table>\n",
       "</div>"
      ],
      "text/plain": [
       "      f0  f3\n",
       "i=1    1   0\n",
       "i=2    0   1\n",
       "i=3    1   0\n",
       "i=4    0   3\n",
       "i=5    2   0\n",
       "i=6    3   0\n",
       "i=7    0   0\n",
       "i=8    1   4\n",
       "i=9    1   0\n",
       "i=10   2   0"
      ]
     },
     "execution_count": 37,
     "metadata": {},
     "output_type": "execute_result"
    }
   ],
   "source": [
    "# Select one exemplary bundle\n",
    "print(\"Bundle for MEF: \", bundles[1])\n",
    "bundle = bundles[1]\n",
    "df[bundles[1]]"
   ]
  },
  {
   "cell_type": "markdown",
   "metadata": {},
   "source": [
    "The following section presents an implementation of the Merge Exclusive Features algorithm. The implementation is based on the description provided in Figure 7. The algorithm returns two outputs: a DataFrame and a list. The DataFrame represents the merged features, while the list represents the offsets. "
   ]
  },
  {
   "cell_type": "code",
   "execution_count": 38,
   "metadata": {},
   "outputs": [],
   "source": [
    "def MEF(num_data: int, feature_bundle: pd.DataFrame) -> tuple[pd.Series, list]:\n",
    "    \"\"\"A simplified implementation of the merge exclusive features algorithm\n",
    "\n",
    "    Args:\n",
    "        num_data (int): the length of the bundled data set \n",
    "        feature_bundle (pd.DataFrame): the data set containing the column bundle to be merged\n",
    "\n",
    "    Returns:\n",
    "        new_bin, bin_range (tuple): the merged feature column\n",
    "    \"\"\"\n",
    "    bin_range = [0]  # offset (aligns the individual distributions of features)\n",
    "    total_bin = 0\n",
    "    \n",
    "    # Calculate offsets\n",
    "    for f in feature_bundle:\n",
    "        total_bin += feature_bundle[f].max()  # Search for the maximum record\n",
    "        bin_range.append(total_bin)\n",
    "    \n",
    "    # Create empty column for merged feature\n",
    "    new_bin = pd.Series(data=np.zeros(num_data), index=feature_bundle.index)\n",
    "    \n",
    "    # Merge feature columns into one in a row-wise fashion\n",
    "    for i in range(0, num_data):\n",
    "        for j in range(0, len(feature_bundle.columns)):\n",
    "            if feature_bundle.iloc[i, j] != 0:\n",
    "                new_bin.iloc[i] = feature_bundle.iloc[i, j] + bin_range[j]\n",
    "\n",
    "    return new_bin, bin_range"
   ]
  },
  {
   "cell_type": "code",
   "execution_count": 39,
   "metadata": {},
   "outputs": [
    {
     "name": "stdout",
     "output_type": "stream",
     "text": [
      "i=1     1.0\n",
      "i=2     4.0\n",
      "i=3     1.0\n",
      "i=4     6.0\n",
      "i=5     2.0\n",
      "i=6     3.0\n",
      "i=7     0.0\n",
      "i=8     7.0\n",
      "i=9     1.0\n",
      "i=10    2.0\n",
      "dtype: float64 \n",
      "\n",
      "Offset: [0, np.int64(3), np.int64(7)]\n"
     ]
    }
   ],
   "source": [
    "# Display merged feature column\n",
    "merged_df, offset = MEF(num_data=len(df[bundle]), feature_bundle=df[bundle])\n",
    "print(merged_df, \"\\n\")\n",
    "print(\"Offset:\", offset)"
   ]
  },
  {
   "cell_type": "code",
   "execution_count": 40,
   "metadata": {},
   "outputs": [
    {
     "name": "stdout",
     "output_type": "stream",
     "text": [
      "Sparsity of merged data:  0.1\n",
      "Sparsity of Raw data:  0.35\n"
     ]
    }
   ],
   "source": [
    "print(\"Sparsity of merged data: \", len(merged_df[merged_df == 0]) / len(merged_df))\n",
    "print(\n",
    "    \"Sparsity of Raw data: \",\n",
    "    (len(df[df[\"f0\"] == 0]) + len(df[df[\"f1\"] == 0])) / (len(df) * 2),\n",
    ")"
   ]
  },
  {
   "cell_type": "markdown",
   "metadata": {},
   "source": [
    "The merged feature exhibit a higher density than the two preceding features, due to the fact that the MEF algorithm combines the features and subsequently eliminates the zero values. In this instance, the sparsity of the dataset was reduced from 50% to 10%. Furthermore, the MEF algorithm incorporates the properties of the original data set into the merged features. "
   ]
  },
  {
   "cell_type": "markdown",
   "metadata": {},
   "source": [
    "[<<<](1.4_gradient_based_one_side_sampling.ipynb)  | 1.5_exclusive_feature_bundling |  [>>>](1.6_conclusion.ipynb)"
   ]
  }
 ],
 "metadata": {
  "kernelspec": {
   "display_name": "lightgbm",
   "language": "python",
   "name": "python3"
  },
  "language_info": {
   "codemirror_mode": {
    "name": "ipython",
    "version": 3
   },
   "file_extension": ".py",
   "mimetype": "text/x-python",
   "name": "python",
   "nbconvert_exporter": "python",
   "pygments_lexer": "ipython3",
   "version": "3.11.9"
  }
 },
 "nbformat": 4,
 "nbformat_minor": 4
}
